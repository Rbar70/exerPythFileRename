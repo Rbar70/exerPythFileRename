{
 "cells": [
  {
   "cell_type": "code",
   "execution_count": 1,
   "source": [
    "import os"
   ],
   "outputs": [],
   "metadata": {}
  },
  {
   "cell_type": "code",
   "execution_count": 2,
   "source": [
    "os.chdir('S:\\BMI6017\\Week4\\exerPythFileRename')"
   ],
   "outputs": [],
   "metadata": {}
  },
  {
   "cell_type": "code",
   "execution_count": 4,
   "source": [
    "print(os.getcwd())"
   ],
   "outputs": [
    {
     "output_type": "stream",
     "name": "stdout",
     "text": [
      "s:\\BMI6017\\Week4\\exerPythFileRename\n"
     ]
    }
   ],
   "metadata": {}
  },
  {
   "cell_type": "code",
   "execution_count": 5,
   "source": [
    "os.chdir('S:\\BMI6017\\Week4\\exerPythFileRename\\ss')"
   ],
   "outputs": [],
   "metadata": {}
  },
  {
   "cell_type": "code",
   "execution_count": 6,
   "source": [
    "print(os.getcwd())"
   ],
   "outputs": [
    {
     "output_type": "stream",
     "name": "stdout",
     "text": [
      "S:\\BMI6017\\Week4\\exerPythFileRename\\ss\n"
     ]
    }
   ],
   "metadata": {}
  },
  {
   "cell_type": "code",
   "execution_count": 8,
   "source": [
    "for f in os.listdir():\r\n",
    "    print(f)"
   ],
   "outputs": [
    {
     "output_type": "stream",
     "name": "stdout",
     "text": [
      "Venus - Our solar system - #3.txt\n",
      "Earth - Our solar system - #4.txt\n",
      "Jupiter - Our solar system - #6.txt\n",
      "Mars - Our solar system - #5.txt\n",
      "Mercury - Our solar system - #2.txt\n",
      "Neptune - Our solar system - #8.txt\n",
      "Pluto - Our solar system - #10.txt\n",
      "Saturn - Our solar system - #7.txt\n",
      "The Sun - Our solar system - #1.txt\n",
      "Uranus - Our solar system - #9.txt\n"
     ]
    }
   ],
   "metadata": {}
  },
  {
   "cell_type": "code",
   "execution_count": 10,
   "source": [
    "for f in os.listdir():\r\n",
    "    print(os.path.splitext(f))"
   ],
   "outputs": [
    {
     "output_type": "stream",
     "name": "stdout",
     "text": [
      "('Venus - Our solar system - #3', '.txt')\n",
      "('Earth - Our solar system - #4', '.txt')\n",
      "('Jupiter - Our solar system - #6', '.txt')\n",
      "('Mars - Our solar system - #5', '.txt')\n",
      "('Mercury - Our solar system - #2', '.txt')\n",
      "('Neptune - Our solar system - #8', '.txt')\n",
      "('Pluto - Our solar system - #10', '.txt')\n",
      "('Saturn - Our solar system - #7', '.txt')\n",
      "('The Sun - Our solar system - #1', '.txt')\n",
      "('Uranus - Our solar system - #9', '.txt')\n"
     ]
    }
   ],
   "metadata": {}
  },
  {
   "cell_type": "code",
   "execution_count": 12,
   "source": [
    "for f in os.listdir():\r\n",
    "    file_name, file_ext = os.path.splitext(f)\r\n",
    "    print(file_name)\r\n"
   ],
   "outputs": [
    {
     "output_type": "stream",
     "name": "stdout",
     "text": [
      "Venus - Our solar system - #3\n",
      "Earth - Our solar system - #4\n",
      "Jupiter - Our solar system - #6\n",
      "Mars - Our solar system - #5\n",
      "Mercury - Our solar system - #2\n",
      "Neptune - Our solar system - #8\n",
      "Pluto - Our solar system - #10\n",
      "Saturn - Our solar system - #7\n",
      "The Sun - Our solar system - #1\n",
      "Uranus - Our solar system - #9\n"
     ]
    }
   ],
   "metadata": {}
  },
  {
   "cell_type": "code",
   "execution_count": 13,
   "source": [
    "for f in os.listdir():\r\n",
    "    file_name, file_ext = os.path.splitext(f)\r\n",
    "    print(file_name.split('-'))\r\n"
   ],
   "outputs": [
    {
     "output_type": "stream",
     "name": "stdout",
     "text": [
      "['Venus ', ' Our solar system ', ' #3']\n",
      "['Earth ', ' Our solar system ', ' #4']\n",
      "['Jupiter ', ' Our solar system ', ' #6']\n",
      "['Mars ', ' Our solar system ', ' #5']\n",
      "['Mercury ', ' Our solar system ', ' #2']\n",
      "['Neptune ', ' Our solar system ', ' #8']\n",
      "['Pluto ', ' Our solar system ', ' #10']\n",
      "['Saturn ', ' Our solar system ', ' #7']\n",
      "['The Sun ', ' Our solar system ', ' #1']\n",
      "['Uranus ', ' Our solar system ', ' #9']\n"
     ]
    }
   ],
   "metadata": {}
  },
  {
   "cell_type": "code",
   "execution_count": 21,
   "source": [
    "for f in os.listdir():\r\n",
    "    file_name, file_ext = os.path.splitext(f)\r\n",
    "    f_title, f_course, f_num = file_name.split(' - ')\r\n",
    "    print(f_title)\r\n",
    "    print(f_course)\r\n",
    "    print(f_num)"
   ],
   "outputs": [
    {
     "output_type": "stream",
     "name": "stdout",
     "text": [
      "Venus\n",
      "Our solar system\n",
      "#3\n",
      "Earth\n",
      "Our solar system\n",
      "#4\n",
      "Jupiter\n",
      "Our solar system\n",
      "#6\n",
      "Mars\n",
      "Our solar system\n",
      "#5\n",
      "Mercury\n",
      "Our solar system\n",
      "#2\n",
      "Neptune\n",
      "Our solar system\n",
      "#8\n",
      "Pluto\n",
      "Our solar system\n",
      "#10\n",
      "Saturn\n",
      "Our solar system\n",
      "#7\n",
      "The Sun\n",
      "Our solar system\n",
      "#1\n",
      "Uranus\n",
      "Our solar system\n",
      "#9\n"
     ]
    }
   ],
   "metadata": {}
  },
  {
   "cell_type": "code",
   "execution_count": 23,
   "source": [
    "for f in os.listdir():\r\n",
    "    f_name, f_ext = os.path.splitext(f)\r\n",
    "    f_title, f_course, f_num = file_name.split('-')\r\n",
    "    print(f_title)\r\n",
    "    print(f_course)\r\n",
    "    print(f_num)"
   ],
   "outputs": [
    {
     "output_type": "stream",
     "name": "stdout",
     "text": [
      "Uranus \n",
      " Our solar system \n",
      " #9\n",
      "Uranus \n",
      " Our solar system \n",
      " #9\n",
      "Uranus \n",
      " Our solar system \n",
      " #9\n",
      "Uranus \n",
      " Our solar system \n",
      " #9\n",
      "Uranus \n",
      " Our solar system \n",
      " #9\n",
      "Uranus \n",
      " Our solar system \n",
      " #9\n",
      "Uranus \n",
      " Our solar system \n",
      " #9\n",
      "Uranus \n",
      " Our solar system \n",
      " #9\n",
      "Uranus \n",
      " Our solar system \n",
      " #9\n",
      "Uranus \n",
      " Our solar system \n",
      " #9\n"
     ]
    }
   ],
   "metadata": {}
  },
  {
   "cell_type": "code",
   "execution_count": null,
   "source": [
    "for f in os.listdir():\r\n",
    "    f_name, f_ext = os.path.splitext(f)\r\n",
    "    f_title, f_course, f_num = file_name.split('-')\r\n",
    "    print(f_title)\r\n",
    "    print(f_course)\r\n",
    "    print(f_num)"
   ],
   "outputs": [
    {
     "output_type": "stream",
     "name": "stdout",
     "text": [
      "Uranus \n",
      " Our solar system \n",
      " #9\n",
      "Uranus \n",
      " Our solar system \n",
      " #9\n",
      "Uranus \n",
      " Our solar system \n",
      " #9\n",
      "Uranus \n",
      " Our solar system \n",
      " #9\n",
      "Uranus \n",
      " Our solar system \n",
      " #9\n",
      "Uranus \n",
      " Our solar system \n",
      " #9\n",
      "Uranus \n",
      " Our solar system \n",
      " #9\n",
      "Uranus \n",
      " Our solar system \n",
      " #9\n",
      "Uranus \n",
      " Our solar system \n",
      " #9\n",
      "Uranus \n",
      " Our solar system \n",
      " #9\n"
     ]
    }
   ],
   "metadata": {}
  },
  {
   "cell_type": "code",
   "execution_count": 31,
   "source": [
    "for f in os.listdir():\r\n",
    "    f_name, f_ext = os.path.splitext(f)\r\n",
    "    f_title, f_course, f_num = f_name.split('-')\r\n",
    "    f_title = f_title.strip()\r\n",
    "    f_course = f_course.strip()\r\n",
    "    f_num = f_num.strip()[1:].zfill(2)\r\n",
    "\r\n",
    "    print('{}-{}{}'.format(f_num, f_title, f_ext))"
   ],
   "outputs": [
    {
     "output_type": "stream",
     "name": "stdout",
     "text": [
      "03-Venus.txt\n",
      "04-Earth.txt\n",
      "06-Jupiter.txt\n",
      "05-Mars.txt\n",
      "02-Mercury.txt\n",
      "08-Neptune.txt\n",
      "10-Pluto.txt\n",
      "07-Saturn.txt\n",
      "01-The Sun.txt\n",
      "09-Uranus.txt\n"
     ]
    }
   ],
   "metadata": {}
  },
  {
   "cell_type": "code",
   "execution_count": 32,
   "source": [
    "for f in os.listdir():\r\n",
    "    f_name, f_ext = os.path.splitext(f)\r\n",
    "    f_title, f_course, f_num = f_name.split('-')\r\n",
    "    f_title = f_title.strip()\r\n",
    "    f_course = f_course.strip()\r\n",
    "    f_num = f_num.strip()[1:].zfill(2)\r\n",
    "\r\n",
    "    new_name = '{}-{}{}'.format(f_num, f_title, f_ext)\r\n",
    "\r\n",
    "    os.rename(f, new_name)"
   ],
   "outputs": [],
   "metadata": {}
  }
 ],
 "metadata": {
  "orig_nbformat": 4,
  "language_info": {
   "name": "python",
   "version": "3.8.10",
   "mimetype": "text/x-python",
   "codemirror_mode": {
    "name": "ipython",
    "version": 3
   },
   "pygments_lexer": "ipython3",
   "nbconvert_exporter": "python",
   "file_extension": ".py"
  },
  "kernelspec": {
   "name": "python3",
   "display_name": "Python 3.8.10 64-bit ('Basics Packages': conda)"
  },
  "interpreter": {
   "hash": "3ec2476c48889052848e17f4d63f00e06b751092a8b83f2e664b9facfe6d6422"
  }
 },
 "nbformat": 4,
 "nbformat_minor": 2
}